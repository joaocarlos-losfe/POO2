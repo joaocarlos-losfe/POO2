{
 "cells": [
  {
   "cell_type": "code",
   "execution_count": 50,
   "id": "2b5b54a0",
   "metadata": {},
   "outputs": [],
   "source": [
    "from datetime import datetime\n",
    "\n",
    "class Historico():\n",
    "    def __init__(self):\n",
    "        self.data_abertura = datetime.today()\n",
    "        self.historico_transacoes = []\n",
    "    \n",
    "    def exibir_historico(self):\n",
    "        count = 1;\n",
    "        print(\"\\nexibindo seu historico\")\n",
    "        for historico in self.historico_transacoes:\n",
    "            print(f\"{count}: {historico}\")\n",
    "            count +=1"
   ]
  },
  {
   "cell_type": "code",
   "execution_count": 51,
   "id": "da11817f",
   "metadata": {},
   "outputs": [],
   "source": [
    "class Cliente():\n",
    "    def __init__(self, nome, sobre_nome, cpf):\n",
    "        self.nome = nome\n",
    "        self.sobre_nome = nome\n",
    "        self.cpf = cpf"
   ]
  },
  {
   "cell_type": "code",
   "execution_count": 62,
   "id": "0571fafe",
   "metadata": {},
   "outputs": [
    {
     "data": {
      "text/plain": [
       "'\\n\\nconta_1 = Conta(\\'111\\', \"joao\", 1200, 1000)\\nconta_2 = Conta(\\'222\\', \"jose marcos\", 1000, 5000)\\n\\ntransferiu = conta_1.transfere(conta_2, 200)\\nif transferiu:\\n    print(\"transferencia realizada\")\\nelse:\\n    print(\"transferencia não realizada\")\\n        \\ntransferiu = conta_2.transfere(conta_1, 1300)\\nif transferiu:\\n    print(\"transferencia realizada\")\\nelse:\\n    print(\"transferencia não realizada\")\\n\\nprint(f\"saldo da conta 1: {conta_1.saldo}. Saldo da conta 2: {conta_2.saldo}\")\\n'"
      ]
     },
     "execution_count": 62,
     "metadata": {},
     "output_type": "execute_result"
    }
   ],
   "source": [
    "class Conta():\n",
    "    def __init__(self, numero, titular, saldo, limite = 10000):\n",
    "        self.numero = numero\n",
    "        self.titular = titular\n",
    "        self.saldo = saldo\n",
    "        self.limite = limite\n",
    "        self.historico = Historico()\n",
    "        self.historico.historico_transacoes.append(f\"conta aberta dia {self.historico.data_abertura}. Numero: {self.numero}. Limite: {self.limite} \")\n",
    "    \n",
    "    def depositar(self, valor):\n",
    "        self.saldo += valor\n",
    "        self.historico.historico_transacoes.append(f\"deposito no valor de R$ {valor} dia {datetime.today()}. saldo atual: R$ {self.saldo}\")\n",
    "        \n",
    "    def sacar(self, valor):\n",
    "        if(valor > self.saldo):\n",
    "            self.historico.historico_transacoes.append(f\"tentativa de saque no valor de R$ {valor} dia {datetime.today()}. valor de saque maior que o saldo disponivel na conta\")\n",
    "            return False\n",
    "        else:\n",
    "            self.saldo -= valor\n",
    "            self.historico.historico_transacoes.append(f\"saque realizado no valor de R$ {valor} dia {datetime.today()}. saldo atual: R$ {self.saldo}\")\n",
    "            return True\n",
    "    \n",
    "    def transfere(self, conta_destino, valor):\n",
    "        if(self.saldo < valor):\n",
    "            self.historico.historico_transacoes.append(f\"tentativa de transferencia para a conta {conta_destino.numero}. saldo insuficiente para transaferencia\")\n",
    "            return False\n",
    "        else:\n",
    "            self.saldo -= valor;\n",
    "            self.historico.historico_transacoes.append(f\"transferencia realizada para a conta {conta_destino.numero}\")\n",
    "            conta_destino.historico.historico_transacoes.append(f\"você recebeu uma transferencia de {self.titular.nome}. no valor de {valor}\")\n",
    "            conta_destino.saldo += valor\n",
    "            return True\n",
    "\"\"\"\n",
    "\n",
    "conta_1 = Conta('111', \"joao\", 1200, 1000)\n",
    "conta_2 = Conta('222', \"jose marcos\", 1000, 5000)\n",
    "\n",
    "transferiu = conta_1.transfere(conta_2, 200)\n",
    "if transferiu:\n",
    "    print(\"transferencia realizada\")\n",
    "else:\n",
    "    print(\"transferencia não realizada\")\n",
    "        \n",
    "transferiu = conta_2.transfere(conta_1, 1300)\n",
    "if transferiu:\n",
    "    print(\"transferencia realizada\")\n",
    "else:\n",
    "    print(\"transferencia não realizada\")\n",
    "\n",
    "print(f\"saldo da conta 1: {conta_1.saldo}. Saldo da conta 2: {conta_2.saldo}\")\n",
    "\"\"\"\n",
    "            "
   ]
  },
  {
   "cell_type": "code",
   "execution_count": 63,
   "id": "ccedfac1",
   "metadata": {},
   "outputs": [
    {
     "name": "stdout",
     "output_type": "stream",
     "text": [
      "transferencia realizada\n",
      "transferencia não realizada\n",
      "saldo da conta 1: 1000. Saldo da conta 2: 1200\n",
      "\n",
      "exibindo seu historico\n",
      "1: conta aberta dia 2021-09-07 20:59:46.434709. Numero: 111. Limite: 1000 \n",
      "2: transferencia realizada para a conta 222\n",
      "3: saque realizado no valor de R$ 300 dia 2021-09-07 20:59:46.435704. saldo atual: R$ 700\n",
      "4: deposito no valor de R$ 2000 dia 2021-09-07 20:59:46.435704.saldo atual: R$ 2700\n",
      "\n",
      "exibindo seu historico\n",
      "1: conta aberta dia 2021-09-07 20:59:46.434709. Numero: 222. Limite: 5000 \n",
      "2: você recebeu uma transferencia de joao. no valor de 200\n",
      "3: tentativa de transferencia para a conta 111. saldo insuficiente para transaferencia\n"
     ]
    }
   ],
   "source": [
    "cliente_1 = Cliente(\"joao\", \"sousa\", '333.333.333-02')\n",
    "cliente_2 = Cliente(\"marcos\", \"oliveira jose\", '111.111.111-03')\n",
    "\n",
    "conta_1 = Conta('111', cliente_1, 1200, 1000)\n",
    "conta_2 = Conta('222', cliente_2, 1000, 5000)\n",
    "\n",
    "transferiu = conta_1.transfere(conta_2, 200)\n",
    "if transferiu:\n",
    "    print(\"transferencia realizada\")\n",
    "else:\n",
    "    print(\"transferencia não realizada\")\n",
    "        \n",
    "transferiu = conta_2.transfere(conta_1, 1300)\n",
    "if transferiu:\n",
    "    print(\"transferencia realizada\")\n",
    "else:\n",
    "    print(\"transferencia não realizada\")\n",
    "\n",
    "print(f\"saldo da conta 1: {conta_1.saldo}. Saldo da conta 2: {conta_2.saldo}\")\n",
    "\n",
    "conta_1.sacar(300)\n",
    "conta_1.depositar(2000)\n",
    "\n",
    "conta_1.historico.exibir_historico()\n",
    "conta_2.historico.exibir_historico()\n",
    "\n"
   ]
  }
 ],
 "metadata": {
  "kernelspec": {
   "display_name": "Python 3 (ipykernel)",
   "language": "python",
   "name": "python3"
  },
  "language_info": {
   "codemirror_mode": {
    "name": "ipython",
    "version": 3
   },
   "file_extension": ".py",
   "mimetype": "text/x-python",
   "name": "python",
   "nbconvert_exporter": "python",
   "pygments_lexer": "ipython3",
   "version": "3.9.7"
  }
 },
 "nbformat": 4,
 "nbformat_minor": 5
}
